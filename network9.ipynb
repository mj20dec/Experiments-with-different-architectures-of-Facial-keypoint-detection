{
 "cells": [
  {
   "cell_type": "code",
   "execution_count": 1,
   "metadata": {
    "collapsed": false
   },
   "outputs": [
    {
     "name": "stderr",
     "output_type": "stream",
     "text": [
      "/home/gaurav/Desktop/assignment1/.env/local/lib/python2.7/site-packages/h5py/__init__.py:34: FutureWarning: Conversion of the second argument of issubdtype from `float` to `np.floating` is deprecated. In future, it will be treated as `np.float64 == np.dtype(float).type`.\n",
      "  from ._conv import register_converters as _register_converters\n"
     ]
    }
   ],
   "source": [
    "import os\n",
    "import pickle\n",
    "import pandas as pd\n",
    "import numpy as np\n",
    "import matplotlib.pyplot as plt\n",
    "from random import randint\n",
    "import tensorflow as tf\n",
    "from sklearn.model_selection import train_test_split\n",
    "import math\n",
    "import cv2\n",
    "\n",
    "%matplotlib inline"
   ]
  },
  {
   "cell_type": "code",
   "execution_count": 2,
   "metadata": {
    "collapsed": false
   },
   "outputs": [
    {
     "name": "stdout",
     "output_type": "stream",
     "text": [
      "(2140, 96, 96)\n",
      "(1783, 96, 96)\n"
     ]
    }
   ],
   "source": [
    "df = pd.read_csv(\"training.csv\")\n",
    "df.dropna(inplace=True)\n",
    "sample = df.shape[0]\n",
    "df[\"Image\"] = df[\"Image\"].apply(lambda im: np.fromstring(im, sep=' '))\n",
    "x = np.vstack(np.array(df[\"Image\"])).reshape(sample, 96, 96)\n",
    "#normaliation done\n",
    "x = x/255\n",
    "y = df.drop(columns=\"Image\").as_matrix()\n",
    "print (x.shape)\n",
    "\n",
    "name_id_map = {}\n",
    "for i, c in enumerate(list(df)):\n",
    "    name_id_map[c]=i\n",
    "    \n",
    "df = pd.read_csv(\"test.csv\")\n",
    "df[\"Image\"] = df[\"Image\"].apply(lambda im: np.fromstring(im, sep=' '))\n",
    "sample = df.shape[0]\n",
    "x_test = np.vstack(np.array(df[\"Image\"])).reshape(sample, 96, 96)\n",
    "#normaliation done\n",
    "x_test = x_test/255\n",
    "print (x_test.shape)"
   ]
  },
  {
   "cell_type": "code",
   "execution_count": 130,
   "metadata": {
    "collapsed": false
   },
   "outputs": [
    {
     "name": "stdout",
     "output_type": "stream",
     "text": [
      "(200, 96, 96) (200, 30)\n"
     ]
    }
   ],
   "source": [
    "x = x[:200]\n",
    "y = y[:200]\n",
    "sample = 200\n",
    "print x.shape, y.shape"
   ]
  },
  {
   "cell_type": "code",
   "execution_count": 131,
   "metadata": {
    "collapsed": false
   },
   "outputs": [
    {
     "data": {
      "image/png": "[encoded data removed]",
      "text/plain": [
       "<matplotlib.figure.Figure at 0x7f7a5025dfd0>"
      ]
     },
     "metadata": {},
     "output_type": "display_data"
    }
   ],
   "source": [
    "\n",
    "#plt.imshow(dst, cmap='gray')\n",
    "\n",
    "def rotate_p(x,y,a, x0=48, y0=48):\n",
    "    x2 = ((x - x0) * np.cos(a)) - ((y - y0) * np.sin(a)) + x0\n",
    "    y2 = ((x - x0) * np.sin(a)) + ((y - y0) * np.cos(a)) + y0\n",
    "    return (x2, y2)\n",
    "\n",
    "def rotate_img(img, a):\n",
    "    M = cv2.getRotationMatrix2D((48,48),a,1)\n",
    "    dst = np.copy(cv2.warpAffine(img,M,(96,96)))\n",
    "    return dst\n",
    "\n",
    "def rotate_yp(n, a):\n",
    "    t = []\n",
    "    for i in range(15):\n",
    "        nx, ny = rotate_p(n[2*i], n[2*i+1], a)\n",
    "        t.append(nx)\n",
    "        t.append(ny)\n",
    "    return t\n",
    "\n",
    "def rotate(x, y, a):\n",
    "    # a in degrees\n",
    "    nimg = rotate_img(x, a)\n",
    "    ny = rotate_yp(y, -1*(np.pi/6)*(a/30.0))\n",
    "    return (nimg, ny)\n",
    "\n",
    "a, b = rotate(x[1], y[1], 30)\n",
    "image_x_y(a, b)"
   ]
  },
  {
   "cell_type": "code",
   "execution_count": 93,
   "metadata": {
    "collapsed": false
   },
   "outputs": [],
   "source": [
    "x_rotate = []\n",
    "y_rotate = []\n",
    "for i in range(x.shape[0]):\n",
    "    for _ in range(4):\n",
    "        a = np.random.randint(-90,90)\n",
    "        \n",
    "        nx, ny = rotate(x[i], y[i], a)\n",
    "        \n",
    "        min_px = 95\n",
    "        max_px = 2\n",
    "        min_py = 95\n",
    "        max_py = 2\n",
    "        for p in range(15):\n",
    "            min_px = min(min_px, ny[2*p])\n",
    "            max_px = max(max_px, ny[2*p])\n",
    "            min_py = min(min_py, ny[2*p+1])\n",
    "            max_py = max(max_py, ny[2*p+1])\n",
    "\n",
    "        max_py = max_py-1\n",
    "        max_px = max_px-1\n",
    "        min_px = min_px+1\n",
    "        min_py = min_py+1\n",
    "        \n",
    "        if max_py>96 or max_px>96 or min_px<0 or min_py<0:\n",
    "            continue\n",
    "        \n",
    "        \n",
    "        x_rotate.append(nx)\n",
    "        y_rotate.append(ny)"
   ]
  },
  {
   "cell_type": "code",
   "execution_count": 101,
   "metadata": {
    "collapsed": false
   },
   "outputs": [
    {
     "name": "stdout",
     "output_type": "stream",
     "text": [
      "(800, 800)\n"
     ]
    },
    {
     "data": {
      "image/png": "[encoded data removed]",
      "text/plain": [
       "<matplotlib.figure.Figure at 0x7f7a425cbf90>"
      ]
     },
     "metadata": {},
     "output_type": "display_data"
    }
   ],
   "source": [
    "print (len(x_rotate), len(y_rotate))\n",
    "i = np.random.randint(len(x_rotate))\n",
    "image_x_y(x_rotate[i], y_rotate[i])"
   ]
  },
  {
   "cell_type": "code",
   "execution_count": 126,
   "metadata": {
    "collapsed": false
   },
   "outputs": [
    {
     "name": "stdout",
     "output_type": "stream",
     "text": [
      "(200, 16, 16)\n"
     ]
    }
   ],
   "source": [
    "x = x.reshape(-1,96*96)\n",
    "mean, eg = cv2.PCACompute(x, mean=None)\n",
    "x = eg[:,:256]\n",
    "x = x.reshape(-1, 16, 16)\n",
    "print x.shape"
   ]
  },
  {
   "cell_type": "code",
   "execution_count": 125,
   "metadata": {
    "collapsed": false
   },
   "outputs": [
    {
     "name": "stdout",
     "output_type": "stream",
     "text": [
      "(1, 9216)\n",
      "[[0.59790196 0.58364706 0.57164706 ... 0.42247059 0.42647059 0.43172549]]\n",
      "(200, 9216)\n",
      "[-0.00802694 -0.00803133 -0.00834015 ... -0.0008761  -0.00111637\n",
      " -0.00098765]\n"
     ]
    }
   ],
   "source": [
    "print mean.shape\n",
    "print mean\n",
    "print eg.shape\n",
    "print eg[0]"
   ]
  },
  {
   "cell_type": "code",
   "execution_count": 8,
   "metadata": {
    "collapsed": true
   },
   "outputs": [],
   "source": [
    "def image_points(ser):\n",
    "    plt.imshow(ser[\"Image\"].reshape(96, 96), cmap=\"gray\")\n",
    "    ser = ser.values[0:30]\n",
    "    for i in range(15):\n",
    "        plt.scatter(ser[2*i], ser[2*i+1], c='r', s=40)\n",
    "\n",
    "def image_x_y(x, y):\n",
    "    plt.imshow(x, cmap=\"gray\")\n",
    "    for i in range(15):\n",
    "        plt.scatter(y[2*i], y[2*i+1], c='r', s=40)\n",
    "\n",
    "def mir_y(input_y):\n",
    "    temp = np.copy(input_y)\n",
    "    for i in range(30):\n",
    "        if (i+1)%2:\n",
    "            temp[i] = 96 - input_y[i]\n",
    "    return temp\n",
    "\n",
    "def HistogramStretching(image):\n",
    "    # a, b = min(image), max(image)\n",
    "    a, b = np.percentile(image, 5), np.percentile(image, 95)\n",
    "    l, u = 0, 1\n",
    "    const = 1.0*(b*l - a*u)/(b - a)\n",
    "    k = 1.0*(u-l)/(b-a)\n",
    "    return [k*p+const for p in image]"
   ]
  },
  {
   "cell_type": "code",
   "execution_count": 132,
   "metadata": {
    "collapsed": false
   },
   "outputs": [],
   "source": [
    "\n",
    "\n",
    "#q = df.loc[randint(0, df.shape[0])]\n",
    "#image_points(q)\n",
    "x_translate = []\n",
    "y_translate = []\n",
    "for i in range(x.shape[0]):\n",
    "    min_px = 95\n",
    "    max_px = 2\n",
    "    min_py = 95\n",
    "    max_py = 2\n",
    "    for p in range(15):\n",
    "        min_px = min(min_px, y[i][2*p])\n",
    "        max_px = max(max_px, y[i][2*p])\n",
    "        min_py = min(min_py, y[i][2*p+1])\n",
    "        max_py = max(max_py, y[i][2*p+1])\n",
    "    \n",
    "    max_py = max_py-1\n",
    "    max_px = max_px-1\n",
    "    min_px = min_px+1\n",
    "    min_py = min_py+1\n",
    "    \n",
    "    for _ in range(4):\n",
    "        ht = np.random.randint(2)\n",
    "        vt = np.random.randint(2)\n",
    "\n",
    "        if ht==0:\n",
    "            mx = -1*np.random.randint(min_px)\n",
    "        else:\n",
    "            mx = np.random.randint(96-max_px)\n",
    "\n",
    "        if vt==0:\n",
    "            my = -1*np.random.randint(min_py)\n",
    "        else:\n",
    "            #print (max_py)\n",
    "            my = np.random.randint(96-max_py)\n",
    "\n",
    "        M = np.float32([[1, 0, mx], [0, 1, my]])\n",
    "        x_translate.append(np.copy(cv2.warpAffine(x[i], M, (96, 96))))\n",
    "        \n",
    "        #plt.imshow(cv2.warpAffine(x[i], M, (96, 96)), cmap='gray')\n",
    "\n",
    "        y_t = np.copy(y[i])\n",
    "        for p in range(15):\n",
    "            y_t[2*p] = y[i][2*p]+mx\n",
    "            y_t[2*p+1] = y[i][2*p+1]+my\n",
    "\n",
    "        y_translate.append(y_t)\n",
    "\n",
    "\n",
    "# In[ ]:\n",
    "\n",
    "# data agumentation 12x\n",
    "x_all = np.ndarray((sample*12, 96, 96), float)\n",
    "y_all = np.ndarray((sample*12, 30), float)\n",
    "\n",
    "# Original\n",
    "x_all[0*sample:1*sample, :, :] = np.copy(x)\n",
    "y_all[0*sample:1*sample, :] = np.copy(y)\n",
    "\n",
    "# Brightness thrice 0.7 1.3 1.6\n",
    "x_all[1*sample:2*sample, :, :] = 0.7*np.copy(x)\n",
    "y_all[1*sample:2*sample, :] = np.copy(y)\n",
    "\n",
    "x_all[2*sample:3*sample, :, :] = np.copy(np.where(1.3*x>1, 1, 1.3*x))\n",
    "y_all[2*sample:3*sample, :] = np.copy(y)\n",
    "\n",
    "x_all[3*sample:4*sample, :, :] = np.copy(np.where(1.6*x>1, 1, 1.6*x))\n",
    "y_all[3*sample:4*sample, :] = np.copy(y)\n",
    "\n",
    "# histogram stretching\n",
    "x_all[4*sample:5*sample, :, :] = np.copy([HistogramStretching(i) for i in x])\n",
    "y_all[4*sample:5*sample, :] = np.copy(y)\n",
    "\n",
    "# gaussian blur\n",
    "x_all[5*sample:6*sample, :, :] = np.copy([cv2.GaussianBlur(i,(5,5),0) for i in x])\n",
    "y_all[5*sample:6*sample, :] = np.copy(y)\n",
    "\n",
    "# mirror + blur + brightness\n",
    "x_all[6*sample:7*sample, :, :] = np.copy([cv2.flip(cv2.GaussianBlur(np.where(1.6*i>1, 1, 1.6*i),(5,5),0),1) for i in x])\n",
    "y_all[6*sample:7*sample, :] = np.copy([mir_y(i) for i in y])\n",
    "\n",
    "# translate\n",
    "x_all[7*sample:11*sample, :, :] = np.copy(x_translate)\n",
    "y_all[7*sample:11*sample, :] = np.copy(y_translate)\n",
    "\n",
    "# Mirror\n",
    "for i in range(sample):\n",
    "    x_all[11*sample+i, :, :] = cv2.flip(x[i,:, :], 1)\n",
    "    y_all[11*sample+i, :] = np.copy(mir_y(y[i]))\n",
    "\n",
    "# normaliz\n",
    "y_all = y_all/96"
   ]
  },
  {
   "cell_type": "code",
   "execution_count": 34,
   "metadata": {
    "collapsed": false
   },
   "outputs": [
    {
     "name": "stdout",
     "output_type": "stream",
     "text": [
      "('x_train shape', (2040, 96, 96, 1))\n",
      "('x_val shape', (360, 96, 96, 1))\n"
     ]
    }
   ],
   "source": [
    "x_train, x_val, y_train, y_val = train_test_split(x_all, y_all, test_size=0.15, random_state = 2)\n",
    "# theano and tensorflow have different channel order\n",
    "\n",
    "x_train = x_train.reshape(x_train.shape[0], 96, 96, 1)\n",
    "x_val = x_val.reshape(x_val.shape[0], 96, 96, 1)\n",
    "input_shape = (96, 96, 1)\n",
    "    \n",
    "print('x_train shape', x_train.shape)\n",
    "print('x_val shape', x_val.shape)"
   ]
  },
  {
   "cell_type": "code",
   "execution_count": 36,
   "metadata": {
    "collapsed": false
   },
   "outputs": [
    {
     "name": "stdout",
     "output_type": "stream",
     "text": [
      "(?, 24, 24, 128)\n",
      "(?, 6, 6, 512)\n",
      "(?, 2, 2, 1024)\n",
      "(?, 1, 1, 2048)\n"
     ]
    }
   ],
   "source": [
    "tf.reset_default_graph()\n",
    "X = tf.placeholder(tf.float32,[None,96,96,1])\n",
    "Y = tf.placeholder(tf.float32,[None,30])\n",
    "is_training = tf.placeholder(tf.bool)\n",
    "\n",
    "#Convolution layer 1\n",
    "w_conv1 = tf.get_variable(\"w_conv1\",shape = [4,4,1,128])\n",
    "b_conv1 = tf.get_variable(\"b_conv1\",shape = [128])\n",
    "z_conv1 = tf.nn.conv2d(X,w_conv1,strides = [1,4,4,1], padding='SAME')+b_conv1\n",
    "print(z_conv1.shape)\n",
    "a_conv1 = tf.nn.relu(z_conv1)\n",
    "bn1 = tf.layers.batch_normalization(a_conv1, training=is_training)\n",
    "\n",
    "#Convolution layer 2\n",
    "w_conv2 = tf.get_variable(\"w_conv2\",shape = [4,4,128,512])\n",
    "b_conv2 = tf.get_variable(\"b_conv2\",shape = [512])\n",
    "z_conv2 = tf.nn.conv2d(bn1,w_conv2,strides = [1,4,4,1], padding='SAME')+b_conv2\n",
    "print(z_conv2.shape)\n",
    "a_conv2 = tf.nn.relu(z_conv2)\n",
    "bn2 = tf.layers.batch_normalization(a_conv2, training=is_training)\n",
    "\n",
    "#Convolution layer 3\n",
    "w_conv3 = tf.get_variable(\"w_conv3\",shape = [4,4,512,1024])\n",
    "b_conv3 = tf.get_variable(\"b_conv3\",shape = [1024])\n",
    "z_conv3 = tf.nn.conv2d(bn2,w_conv3,strides = [1,4,4,1], padding='SAME')+b_conv3\n",
    "print(z_conv3.shape)\n",
    "a_conv3 = tf.nn.relu(z_conv3)\n",
    "bn3 = tf.layers.batch_normalization(a_conv3, training=is_training)\n",
    "\n",
    "#Convolution layer 4\n",
    "w_conv4 = tf.get_variable(\"w_conv4\",shape = [2,2,1024,2048])\n",
    "b_conv4 = tf.get_variable(\"b_conv4\",shape = [2048])\n",
    "z_conv4 = tf.nn.conv2d(bn3,w_conv4,strides = [1,2,2,1], padding='SAME')+b_conv4\n",
    "print(z_conv4.shape)\n",
    "a_conv4 = tf.nn.relu(z_conv4)\n",
    "bn4 = tf.layers.batch_normalization(a_conv4, training=is_training)\n",
    "\n",
    "flat1 = tf.reshape(bn4,[-1,2048])\n",
    "\n",
    "# dropout\n",
    "drp = tf.nn.dropout(flat1,keep_prob = 0.5)\n",
    "\n",
    "#Fully connected \n",
    "w_fc1 = tf.get_variable(\"w_fc1\",shape = [2048,128])\n",
    "b_fc1 = tf.get_variable(\"b_fc1\",shape = [128])\n",
    "fc1 = tf.matmul(drp,w_fc1)+b_fc1\n",
    "a_fc1 = tf.nn.relu(fc1)\n",
    "bn5 = tf.layers.batch_normalization(a_fc1, training=is_training)\n",
    "\n",
    "# dropout\n",
    "drp1 = tf.nn.dropout(bn5,keep_prob = 0.3)\n",
    "\n",
    "#fully connected 2\n",
    "w_fc2 = tf.get_variable(\"w_fc2\",shape = [128,30])\n",
    "b_fc2 = tf.get_variable(\"b_fc2\",shape = [30])\n",
    "fc2 = tf.matmul(drp1,w_fc2)+b_fc2\n",
    "\n",
    "#rmse\n",
    "loss = tf.sqrt(tf.reduce_sum((tf.losses.mean_squared_error(Y,fc2))))\n",
    "\n",
    "#adam optimizer\n",
    "optimizer = tf.train.AdamOptimizer(1e-1)\n",
    "\n",
    "# batch normalization in tensorflow requires this extra dependency\n",
    "extra_update_ops = tf.get_collection(tf.GraphKeys.UPDATE_OPS)\n",
    "with tf.control_dependencies(extra_update_ops):\n",
    "    train_step = optimizer.minimize(loss)"
   ]
  },
  {
   "cell_type": "code",
   "execution_count": 60,
   "metadata": {
    "collapsed": true
   },
   "outputs": [],
   "source": [
    "saver = tf.train.Saver(tf.global_variables())\n",
    "\n",
    "def run_model(session, predict, loss_val, Xd, yd, Xval, yval,\n",
    "              epochs=1, batch_size=64, print_every=100,\n",
    "              training=None, plot_losses=True, save_every=10):\n",
    "    \n",
    "    train_indicies = np.arange(Xd.shape[0])\n",
    "    np.random.shuffle(train_indicies)\n",
    "\n",
    "    training_now = training is not None\n",
    "    \n",
    "    variables = [loss_val, train_step]\n",
    "    if training_now:\n",
    "        variables[-1] = training\n",
    "    \n",
    "    # counter \n",
    "    iter_cnt = 0\n",
    "    for e in range(epochs):\n",
    "        # keep track of losses and accuracy\n",
    "        losses = []\n",
    "        # make sure we iterate over the dataset once\n",
    "        for i in range(int(math.ceil(Xd.shape[0]/batch_size))):\n",
    "            # generate indicies for the batch\n",
    "            start_idx = (i*batch_size)%Xd.shape[0]\n",
    "            idx = train_indicies[start_idx:start_idx+batch_size]\n",
    "            \n",
    "            #print yd[idx[1:3]]\n",
    "            #print idx\n",
    "            \n",
    "            # create a feed dictionary for this batch\n",
    "            feed_dict = {X: Xd[idx],\n",
    "                         Y: yd[idx],\n",
    "                         is_training: training_now }\n",
    "            # get batch size\n",
    "            actual_batch_size = yd[idx].shape[0]\n",
    "            \n",
    "            # have tensorflow compute loss and correct predictions\n",
    "            # and (if given) perform a training step\n",
    "            loss, _ = session.run(variables,feed_dict=feed_dict)\n",
    "            \n",
    "            # aggregate performance stats\n",
    "            losses.append(loss)\n",
    "            \n",
    "            # print every now and then\n",
    "            if training_now and (iter_cnt % print_every) == 0:\n",
    "                print(\"Iteration {0}: with minibatch training loss = {1:.3g}\"                      .format(iter_cnt,loss))\n",
    "            iter_cnt += 1\n",
    "        \n",
    "        \n",
    "        total_loss = np.sum(losses)/(int(math.ceil(Xd.shape[0]/batch_size)))\n",
    "        print(\"Epoch {1}, Overall loss = {0:.3g}\"              .format(total_loss,e+1))\n",
    "        \n",
    "        \n",
    "        \n",
    "\n",
    "        if e % save_every == 0:\n",
    "            '''plt.gcf().set_size_inches(10, 4)\n",
    "            \n",
    "            plt.subplot(1,2,1)        \n",
    "            # test a image\n",
    "            print (\"Testing..\")\n",
    "            n_t = np.random.randint(0, Xd.shape[0])\n",
    "            x_t = Xd[n_t]\n",
    "            y_t = session.run(predict, {X:Xd[n_t].reshape(1,96,96,1), is_training:False})\n",
    "            image_x_y(x_t.reshape(96,96), y_t[0])\n",
    "        \n",
    "            plt.subplot(1,2,2)\n",
    "            plt.plot(losses)\n",
    "            plt.grid(True)\n",
    "            plt.title('Epoch {} Loss'.format(e+1))\n",
    "            plt.xlabel('minibatch number')\n",
    "            plt.ylabel('minibatch loss')\n",
    "            plt.show()\n",
    "            \n",
    "            checkpoint_path = os.path.join('/output/', 'model')\n",
    "            saver.save(sess, checkpoint_path)\n",
    "            print(\"model saved to {}\".format(checkpoint_path))\n",
    "            with open('/output/checkpoint', \"w\") as raw:\n",
    "                raw.write('model_checkpoint_path: \"model\"\\nall_model_checkpoint_paths: \"model\"')\n",
    "\n",
    "            '''\n",
    "            \n",
    "            # check loss on validation data\n",
    "            feed_dict = {X: Xval,\n",
    "                         Y: yval,\n",
    "                         is_training: False}\n",
    "            loss = session.run(loss_val,feed_dict=feed_dict)\n",
    "            print 'val loss', loss\n",
    "            \n",
    "            \n",
    "    \n",
    "    return total_loss\n"
   ]
  },
  {
   "cell_type": "code",
   "execution_count": 61,
   "metadata": {
    "collapsed": false
   },
   "outputs": [
    {
     "name": "stdout",
     "output_type": "stream",
     "text": [
      "Training\n",
      "Iteration 0: with minibatch training loss = 220\n",
      "Epoch 1, Overall loss = 220\n",
      "val loss 49.479485\n",
      "Epoch 2, Overall loss = 47.2\n",
      "Epoch 3, Overall loss = 33.9\n",
      "Iteration 50: with minibatch training loss = 24.6\n",
      "Epoch 4, Overall loss = 25.2\n",
      "Epoch 5, Overall loss = 20.9\n"
     ]
    }
   ],
   "source": [
    "with tf.Session() as sess:\n",
    "    with tf.device(\"/cpu:0\"): #\"/cpu:0\" or \"/gpu:0\" \n",
    "        sess.run(tf.global_variables_initializer())\n",
    "        print('Training')\n",
    "        run_model(sess,fc2,loss,x_train,y_train,x_val,y_val,5,128,50,train_step,True)\n",
    "        #print('Validation')\n",
    "        #run_model(sess,y_out,mean_loss,X_val,y_val,1,64)"
   ]
  },
  {
   "cell_type": "code",
   "execution_count": null,
   "metadata": {
    "collapsed": true
   },
   "outputs": [],
   "source": [
    "name_id_map = {}\n",
    "for i, c in enumerate(list(df)):\n",
    "    name_id_map[c]=i\n",
    "    \n",
    "df = pd.read_csv(\"test.csv\")\n",
    "df[\"Image\"] = df[\"Image\"].apply(lambda im: np.fromstring(im, sep=' '))\n",
    "sample = df.shape[0]\n",
    "x_test = np.vstack(np.array(df[\"Image\"])).reshape(sample, 96, 96)\n",
    "x_test = x_test/255\n",
    "print (x_test.shape)"
   ]
  },
  {
   "cell_type": "code",
   "execution_count": 37,
   "metadata": {
    "collapsed": false
   },
   "outputs": [
    {
     "name": "stdout",
     "output_type": "stream",
     "text": [
      "('loading model: ', u'my_model/model')\n",
      "INFO:tensorflow:Restoring parameters from my_model/model\n"
     ]
    },
    {
     "name": "stderr",
     "output_type": "stream",
     "text": [
      "INFO:tensorflow:Restoring parameters from my_model/model\n"
     ]
    }
   ],
   "source": [
    "saver = tf.train.Saver(tf.global_variables())\n",
    "sess = tf.InteractiveSession()\n",
    "\n",
    "sess.run(tf.global_variables_initializer())\n",
    "\n",
    "ckpt = tf.train.get_checkpoint_state('my_model')\n",
    "print(\"loading model: \", ckpt.model_checkpoint_path)\n",
    "\n",
    "saver.restore(sess, ckpt.model_checkpoint_path)\n",
    "\n",
    "feed_dict = {X: x_test.reshape(-1,96,96,1),\n",
    "             is_training: False}\n",
    "y_test = sess.run(fc2,feed_dict=feed_dict)\n"
   ]
  },
  {
   "cell_type": "code",
   "execution_count": 46,
   "metadata": {
    "collapsed": false
   },
   "outputs": [],
   "source": [
    "feed_dict = {X: x.reshape(-1,96,96,1),\n",
    "             is_training: False}\n",
    "y_t = sess.run(fc2,feed_dict=feed_dict)"
   ]
  },
  {
   "cell_type": "code",
   "execution_count": 59,
   "metadata": {
    "collapsed": false
   },
   "outputs": [
    {
     "data": {
      "image/png": "[encoded data removed]",
      "text/plain": [
       "<matplotlib.figure.Figure at 0x7f5d5f5af1d0>"
      ]
     },
     "metadata": {},
     "output_type": "display_data"
    }
   ],
   "source": [
    "i = np.random.randint(x.shape[0])\n",
    "image_x_y(x[i], y_t[i])"
   ]
  },
  {
   "cell_type": "code",
   "execution_count": 43,
   "metadata": {
    "collapsed": false
   },
   "outputs": [],
   "source": [
    "df = pd.read_csv(\"IdLookupTable.csv\")\n",
    "table = df.as_matrix()\n",
    "result = []\n",
    "for i in table:\n",
    "    result.append(y_test[i[1]-1][name_id_map[i[2]]])\n",
    "result = np.array(result)\n",
    "result = result\n",
    "\n",
    "result[result<=0]=0\n",
    "result[result>=96]=96\n",
    "df = pd.read_csv(\"SampleSubmission.csv\")\n",
    "df[\"Location\"] = df[\"Location\"] + result\n",
    "df.to_csv('MySubmission1.csv', index=False)    "
   ]
  },
  {
   "cell_type": "code",
   "execution_count": 27,
   "metadata": {
    "collapsed": true
   },
   "outputs": [],
   "source": []
  },
  {
   "cell_type": "code",
   "execution_count": 28,
   "metadata": {
    "collapsed": false
   },
   "outputs": [],
   "source": [
    "df = pd.read_csv(\"SampleSubmission.csv\")\n",
    "df[\"Location\"] = df[\"Location\"] + result"
   ]
  },
  {
   "cell_type": "code",
   "execution_count": 29,
   "metadata": {
    "collapsed": true
   },
   "outputs": [],
   "source": [
    "df.to_csv('MySubmission.csv', index=False)    "
   ]
  },
  {
   "cell_type": "code",
   "execution_count": 22,
   "metadata": {
    "collapsed": false
   },
   "outputs": [
    {
     "name": "stdout",
     "output_type": "stream",
     "text": [
      "27124\n"
     ]
    }
   ],
   "source": [
    "print len(result)"
   ]
  },
  {
   "cell_type": "code",
   "execution_count": null,
   "metadata": {
    "collapsed": true
   },
   "outputs": [],
   "source": [
    "#add reg\n",
    "#scale y\n",
    "#rotate data"
   ]
  }
 ],
 "metadata": {
  "kernelspec": {
   "display_name": "Python 2",
   "language": "python",
   "name": "python2"
  },
  "language_info": {
   "codemirror_mode": {
    "name": "ipython",
    "version": 2
   },
   "file_extension": ".py",
   "mimetype": "text/x-python",
   "name": "python",
   "nbconvert_exporter": "python",
   "pygments_lexer": "ipython2",
   "version": "2.7.6"
  }
 },
 "nbformat": 4,
 "nbformat_minor": 0
}
